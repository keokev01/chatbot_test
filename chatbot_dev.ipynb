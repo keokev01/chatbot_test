{
 "cells": [
  {
   "cell_type": "markdown",
   "metadata": {},
   "source": [
    "# Adjusting and Testing your chatbot"
   ]
  },
  {
   "attachments": {},
   "cell_type": "markdown",
   "metadata": {},
   "source": [
    "### 1. Setup\n",
    "\n",
    "See **chatbot_setup.jpynp**"
   ]
  },
  {
   "cell_type": "markdown",
   "metadata": {},
   "source": [
    "Import libraries:"
   ]
  },
  {
   "cell_type": "code",
   "execution_count": 1,
   "metadata": {},
   "outputs": [],
   "source": [
    "from chatbot.chatbot import Chatbot\n",
    "from pprint import pprint"
   ]
  },
  {
   "attachments": {},
   "cell_type": "markdown",
   "metadata": {},
   "source": [
    "### 2. Prompt Engineering\n"
   ]
  },
  {
   "cell_type": "markdown",
   "metadata": {},
   "source": [
    "**Role Prompts (type_role)**\n",
    "\n",
    "These prompts specify the general (user-independent) behaviour of the chatbot, for example specifying the kind of person to enact, the topical context it acts in, and the goal of conversations it conducts with its users.\n"
   ]
  },
  {
   "cell_type": "code",
   "execution_count": 2,
   "metadata": {},
   "outputs": [],
   "source": [
    "my_type_role_1 = \"\"\"\n",
    "    Als digitaler Therapie-Coach sollten Sie sich täglich bei Ihrem Patienten melden, um sein Wohlbefinden im Zusammenhang mit seiner chronischen Erkrankung zu beurteilen.\n",
    "    Verwenden Sie offene Fragen und einen einfühlsamen Dialog, um ein unterstützendes Umfeld zu schaffen.\n",
    "    Hören Sie reflexiv zu und ermutigen Sie den Patienten zu einer ausführlichen Bewertung seines Zustands, ohne das Thema zu lenken.\n",
    "    Stellen Sie nur eine Frage auf einmal.\n",
    "\"\"\"\n",
    "my_type_role_2 = \"\"\"\n",
    "    Als digitaler Therapie-Coach sollten Sie sich täglich bei Ihrem Patienten melden, um sein Wohlbefinden im Zusammenhang mit seiner chronischen Erkrankung zu beurteilen.\n",
    "    Verwenden Sie offene Fragen und einen einfühlsamen Dialog, um ein unterstützendes Umfeld zu schaffen.\n",
    "    Hören Sie reflexiv zu und ermutigen Sie den Patienten zu einer ausführlichen Bewertung seines Zustands, ohne das Thema zu lenken.\n",
    "    Stellen Sie nur eine Frage auf einmal.\n",
    "\"\"\""
   ]
  },
  {
   "cell_type": "markdown",
   "metadata": {},
   "source": [
    "**Context Prompts (instance_context)**\n",
    "\n",
    "These prompts specify user-specific behaviour, for example information about the particular user that will use this chatbot instance.\n"
   ]
  },
  {
   "cell_type": "code",
   "execution_count": 3,
   "metadata": {},
   "outputs": [],
   "source": [
    "my_instance_context_1 = \"\"\"\n",
    "    Dein Gesprächspartner ist Daniel Müller, 52, der seine Adipositas mit einem Therapieplan bekämpft, der intermittierendes Fasten von morgens bis mittags umfasst,\n",
    "    dreimal wöchentliches 30-minütiges Schwimmen und die Umstellung auf Vollkornbrot.\n",
    "\"\"\"\n",
    "\n",
    "my_instance_context_2 = \"\"\"\n",
    "    Dein Gesprächspartner hat erfolgreich 20 kg abgenommen und ist damit nur noch leicht übergewichtig. Er hat Probleme, sein Gewicht konstant zu halten.\n",
    "\"\"\""
   ]
  },
  {
   "cell_type": "markdown",
   "metadata": {},
   "source": [
    "**Starter Prompts (instance_starter)**\n",
    "\n",
    "These prompts instruct GPT to welcome the user, ask initial questions, and how to proceed from there.\n"
   ]
  },
  {
   "cell_type": "code",
   "execution_count": 4,
   "metadata": {},
   "outputs": [],
   "source": [
    "\n",
    "my_instance_starter_1 = \"\"\"\n",
    "Frage nun nach dem Namen des Gesprächpartners und einem persönlichen Detail (z.B. Hobby, Beruf, Lebenserfahrung).\n",
    "Verwende den Namen im geschlechtsneutralem Gespräch in Du-Form.\n",
    "Sobald ein Grund für das Verhalten des Gesprächpartners bekannt ist, gib ihm eine Liste von Optionen, die ihm helfen können, sein Verhalten zu verbessern oder beizubehalten.\n",
    "\"\"\"\n",
    "\n",
    "my_instance_starter_2 = \"\"\"\n",
    "Frage nun nach dem Namen des Gesprächpartners und einem persönlichen Detail (z.B. Hobby, Beruf, Lebenserfahrung).\n",
    "Verwende den Namen im geschlechtsneutralem Gespräch in Du-Form.\n",
    "Sobald ein Grund für das Verhalten des Gesprächpartners bekannt ist, gib ihm eine Liste von Optionen, die ihm helfen können, sein Verhalten zu verbessern oder beizubehalten.\n",
    "\"\"\""
   ]
  },
  {
   "cell_type": "markdown",
   "metadata": {},
   "source": [
    "### 3. Create Chatbots\n",
    "**Initialise the Chatbots**"
   ]
  },
  {
   "cell_type": "code",
   "execution_count": 5,
   "metadata": {},
   "outputs": [],
   "source": [
    "bot_1 = Chatbot(\n",
    "    database_file=\"database/chatbot.db\", \n",
    "    type_id=\"1\",\n",
    "    user_id=\"1\",\n",
    "    type_name=\"Health Coach 1\",\n",
    "    type_role=my_type_role_1,\n",
    "    instance_context=my_instance_context_1,\n",
    "    instance_starter=my_instance_starter_1\n",
    ")\n",
    "bot_2 = Chatbot(\n",
    "    database_file=\"database/chatbot.db\", \n",
    "    type_id=\"2\",\n",
    "    user_id=\"2\",\n",
    "    type_name=\"Health Coach 2\",\n",
    "    type_role=my_type_role_2,\n",
    "    instance_context=my_instance_context_2,\n",
    "    instance_starter=my_instance_starter_2\n",
    ")"
   ]
  },
  {
   "cell_type": "markdown",
   "metadata": {},
   "source": [
    "**Initiate Conversation Starter**\n",
    "\n",
    "Create the initial message(s).\n"
   ]
  },
  {
   "cell_type": "code",
   "execution_count": 6,
   "metadata": {},
   "outputs": [
    {
     "name": "stdout",
     "output_type": "stream",
     "text": [
      "['Hallo Daniel, wie war dein Tag heute? Da wir uns jetzt schon eine Weile '\n",
      " 'kennen, habe ich die Chance gehabt, ein wenig über deine Interessen zu '\n",
      " 'erfahren. Erinnerst du dich daran, ob du schon vor deinem Therapieplan gerne '\n",
      " 'geschwommen bist oder ist das etwas, was duprimär für deine Gesundheit '\n",
      " 'begonnen hast?']\n"
     ]
    }
   ],
   "source": [
    "pprint(bot_1.start())"
   ]
  },
  {
   "cell_type": "code",
   "execution_count": 7,
   "metadata": {},
   "outputs": [
    {
     "name": "stdout",
     "output_type": "stream",
     "text": [
      "['Hallo, ich hoffe, du hattest einen guten Start in den Tag. Bevor wir '\n",
      " 'beginnen, könntest du mir bitte deinen Namen sagen und mir etwas '\n",
      " 'Persönliches über dich selbst erzählen? Vielleicht etwas über dein Hobby, '\n",
      " 'deinen Beruf oder eine Lebenserfahrung, die du mit mir teilen möchtest. \\n'\n",
      " '\\n'\n",
      " 'Nun, um uns auf das Thema deines Gewichts zu konzentrieren, scheint es, als '\n",
      " 'hättest du bereits eine großartige Leistung erreicht, indem du 20 kg '\n",
      " 'abgenommen hast. Das ist wirklich bemerkenswert. Nun sagt du, es fällt dir '\n",
      " 'schwer, dein Gewicht konstant zu halten. Kannst du mir mehr darüber '\n",
      " 'erzählen? Gibt es bestimmte Situationen oder Gefühle, die damit in '\n",
      " 'Verbindung gebracht werden können? \\n'\n",
      " '\\n'\n",
      " 'Je nachdem, was die Ursache ist, könnten verschiedene Ansätze hilfreich '\n",
      " 'sein. Vielleicht wäre eine Überprüfung deines Ernährungs- und Bewegungsplans '\n",
      " 'für dich hilfreich? Oder bist du offen für die Idee einer regelmäßigen '\n",
      " 'Unterstützung zur Verbesserung deiner Gewichtskontrolle? \\n'\n",
      " '\\n'\n",
      " 'Bitte nimm dir etwas Zeit, um darüber nachzudenken und hör auf dein inneres '\n",
      " 'Gefühl. Ich freue mich darauf, von dir zu hören und gemeinsam eine Lösung zu '\n",
      " 'finden.\\n']\n"
     ]
    }
   ],
   "source": [
    "pprint(bot_2.start())"
   ]
  },
  {
   "cell_type": "markdown",
   "metadata": {},
   "source": [
    "### 4. Test your Bots"
   ]
  },
  {
   "cell_type": "markdown",
   "metadata": {},
   "source": [
    "**Respond to the bot's message**"
   ]
  },
  {
   "cell_type": "code",
   "execution_count": 8,
   "metadata": {},
   "outputs": [
    {
     "name": "stdout",
     "output_type": "stream",
     "text": [
      "['Hallo Daniel! Ich hoffe, dir geht es gut. Wie hast du dich heute gefühlt, '\n",
      " 'nachdem du den ganzen Morgen gefastet hast? Kannst du mir dazu mehr '\n",
      " 'erzählen?']\n"
     ]
    }
   ],
   "source": [
    "pprint(bot_1.respond(\"Hallo!\"))"
   ]
  },
  {
   "cell_type": "code",
   "execution_count": 9,
   "metadata": {},
   "outputs": [
    {
     "name": "stdout",
     "output_type": "stream",
     "text": [
      "['Hallo! Es freut mich, von dir zu hören. Wie war dein Tag bisher?']\n"
     ]
    }
   ],
   "source": [
    "pprint(bot_2.respond(\"Hallo!\"))"
   ]
  },
  {
   "cell_type": "markdown",
   "metadata": {},
   "source": [
    "**Retrieve the complete conversation**"
   ]
  },
  {
   "cell_type": "code",
   "execution_count": 10,
   "metadata": {},
   "outputs": [
    {
     "name": "stdout",
     "output_type": "stream",
     "text": [
      "[{'content': 'Hallo Daniel, wie war dein Tag heute? Da wir uns jetzt schon '\n",
      "             'eine Weile kennen, habe ich die Chance gehabt, ein wenig über '\n",
      "             'deine Interessen zu erfahren. Erinnerst du dich daran, ob du '\n",
      "             'schon vor deinem Therapieplan gerne geschwommen bist oder ist '\n",
      "             'das etwas, was duprimär für deine Gesundheit begonnen hast?',\n",
      "  'role': 'assistant'},\n",
      " {'content': 'Hallo!', 'role': 'user'},\n",
      " {'content': 'Hallo Daniel! Ich hoffe, dir geht es gut. Wie hast du dich heute '\n",
      "             'gefühlt, nachdem du den ganzen Morgen gefastet hast? Kannst du '\n",
      "             'mir dazu mehr erzählen?',\n",
      "  'role': 'assistant'}]\n"
     ]
    }
   ],
   "source": [
    "pprint(bot_1.conversation_retrieve())"
   ]
  },
  {
   "cell_type": "code",
   "execution_count": 11,
   "metadata": {},
   "outputs": [
    {
     "name": "stdout",
     "output_type": "stream",
     "text": [
      "[{'content': 'Hallo, ich hoffe, du hattest einen guten Start in den Tag. Bevor '\n",
      "             'wir beginnen, könntest du mir bitte deinen Namen sagen und mir '\n",
      "             'etwas Persönliches über dich selbst erzählen? Vielleicht etwas '\n",
      "             'über dein Hobby, deinen Beruf oder eine Lebenserfahrung, die du '\n",
      "             'mit mir teilen möchtest. \\n'\n",
      "             '\\n'\n",
      "             'Nun, um uns auf das Thema deines Gewichts zu konzentrieren, '\n",
      "             'scheint es, als hättest du bereits eine großartige Leistung '\n",
      "             'erreicht, indem du 20 kg abgenommen hast. Das ist wirklich '\n",
      "             'bemerkenswert. Nun sagt du, es fällt dir schwer, dein Gewicht '\n",
      "             'konstant zu halten. Kannst du mir mehr darüber erzählen? Gibt es '\n",
      "             'bestimmte Situationen oder Gefühle, die damit in Verbindung '\n",
      "             'gebracht werden können? \\n'\n",
      "             '\\n'\n",
      "             'Je nachdem, was die Ursache ist, könnten verschiedene Ansätze '\n",
      "             'hilfreich sein. Vielleicht wäre eine Überprüfung deines '\n",
      "             'Ernährungs- und Bewegungsplans für dich hilfreich? Oder bist du '\n",
      "             'offen für die Idee einer regelmäßigen Unterstützung zur '\n",
      "             'Verbesserung deiner Gewichtskontrolle? \\n'\n",
      "             '\\n'\n",
      "             'Bitte nimm dir etwas Zeit, um darüber nachzudenken und hör auf '\n",
      "             'dein inneres Gefühl. Ich freue mich darauf, von dir zu hören und '\n",
      "             'gemeinsam eine Lösung zu finden.',\n",
      "  'role': 'assistant'},\n",
      " {'content': 'Hallo!', 'role': 'user'},\n",
      " {'content': 'Hallo! Es freut mich, von dir zu hören. Wie war dein Tag bisher?',\n",
      "  'role': 'assistant'}]\n"
     ]
    }
   ],
   "source": [
    "pprint(bot_2.conversation_retrieve())"
   ]
  },
  {
   "cell_type": "markdown",
   "metadata": {},
   "source": [
    "### 5. Reset DB (Optional)\n",
    "You may reset the complete datatabase if needed by executing the following code. Uncomment first (remove the '#'' at the beginning of the line)."
   ]
  },
  {
   "cell_type": "code",
   "execution_count": 12,
   "metadata": {},
   "outputs": [],
   "source": [
    "#bot_1.resetDb()"
   ]
  },
  {
   "cell_type": "markdown",
   "metadata": {},
   "source": [
    "### 6. Deployment\n",
    "\n",
    "See **chatbot_setup.jpynp**\n"
   ]
  }
 ],
 "metadata": {
  "kernelspec": {
   "display_name": "Python 3",
   "language": "python",
   "name": "python3"
  },
  "language_info": {
   "codemirror_mode": {
    "name": "ipython",
    "version": 3
   },
   "file_extension": ".py",
   "mimetype": "text/x-python",
   "name": "python",
   "nbconvert_exporter": "python",
   "pygments_lexer": "ipython3",
   "version": "3.11.7"
  },
  "orig_nbformat": 4
 },
 "nbformat": 4,
 "nbformat_minor": 2
}
